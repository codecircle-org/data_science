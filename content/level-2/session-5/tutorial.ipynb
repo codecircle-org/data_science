{
 "cells": [
  {
   "cell_type": "code",
   "execution_count": null,
   "id": "6960fa74",
   "metadata": {},
   "outputs": [],
   "source": [
    "import os\n",
    "print(os.path.abspath(__file__))"
   ]
  }
 ],
 "metadata": {
  "language_info": {
   "name": "python"
  }
 },
 "nbformat": 4,
 "nbformat_minor": 5
}
