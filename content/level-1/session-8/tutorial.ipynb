{
 "cells": [
  {
   "cell_type": "code",
   "execution_count": null,
   "id": "4bdd9a74",
   "metadata": {},
   "outputs": [],
   "source": [
    "import os\n",
    "print(os.path.abspath(__file__))"
   ]
  }
 ],
 "metadata": {
  "language_info": {
   "name": "python"
  }
 },
 "nbformat": 4,
 "nbformat_minor": 5
}
