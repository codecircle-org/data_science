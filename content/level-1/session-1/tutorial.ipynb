{
 "cells": [
  {
   "cell_type": "code",
   "execution_count": 23,
   "id": "b147421f",
   "metadata": {},
   "outputs": [
    {
     "name": "stderr",
     "output_type": "stream",
     "text": [
      "428.41s - pydevd: Sending message related to process being replaced timed-out after 5 seconds\n"
     ]
    },
    {
     "name": "stdout",
     "output_type": "stream",
     "text": [
      "Requirement already satisfied: ipynbname in /home/satya/codecircle-org/data_science/.venv/lib/python3.11/site-packages (2024.1.0.0)\n",
      "Requirement already satisfied: ipykernel in /home/satya/codecircle-org/data_science/.venv/lib/python3.11/site-packages (from ipynbname) (6.30.1)\n",
      "Requirement already satisfied: comm>=0.1.1 in /home/satya/codecircle-org/data_science/.venv/lib/python3.11/site-packages (from ipykernel->ipynbname) (0.2.3)\n",
      "Requirement already satisfied: debugpy>=1.6.5 in /home/satya/codecircle-org/data_science/.venv/lib/python3.11/site-packages (from ipykernel->ipynbname) (1.8.16)\n",
      "Requirement already satisfied: ipython>=7.23.1 in /home/satya/codecircle-org/data_science/.venv/lib/python3.11/site-packages (from ipykernel->ipynbname) (9.4.0)\n",
      "Requirement already satisfied: jupyter-client>=8.0.0 in /home/satya/codecircle-org/data_science/.venv/lib/python3.11/site-packages (from ipykernel->ipynbname) (8.6.3)\n",
      "Requirement already satisfied: jupyter-core!=5.0.*,>=4.12 in /home/satya/codecircle-org/data_science/.venv/lib/python3.11/site-packages (from ipykernel->ipynbname) (5.8.1)\n",
      "Requirement already satisfied: matplotlib-inline>=0.1 in /home/satya/codecircle-org/data_science/.venv/lib/python3.11/site-packages (from ipykernel->ipynbname) (0.1.7)\n",
      "Requirement already satisfied: nest-asyncio>=1.4 in /home/satya/codecircle-org/data_science/.venv/lib/python3.11/site-packages (from ipykernel->ipynbname) (1.6.0)\n",
      "Requirement already satisfied: packaging>=22 in /home/satya/codecircle-org/data_science/.venv/lib/python3.11/site-packages (from ipykernel->ipynbname) (25.0)\n",
      "Requirement already satisfied: psutil>=5.7 in /home/satya/codecircle-org/data_science/.venv/lib/python3.11/site-packages (from ipykernel->ipynbname) (7.0.0)\n",
      "Requirement already satisfied: pyzmq>=25 in /home/satya/codecircle-org/data_science/.venv/lib/python3.11/site-packages (from ipykernel->ipynbname) (27.0.1)\n",
      "Requirement already satisfied: tornado>=6.2 in /home/satya/codecircle-org/data_science/.venv/lib/python3.11/site-packages (from ipykernel->ipynbname) (6.5.2)\n",
      "Requirement already satisfied: traitlets>=5.4.0 in /home/satya/codecircle-org/data_science/.venv/lib/python3.11/site-packages (from ipykernel->ipynbname) (5.14.3)\n",
      "Requirement already satisfied: comm>=0.1.1 in /home/satya/codecircle-org/data_science/.venv/lib/python3.11/site-packages (from ipykernel->ipynbname) (0.2.3)\n",
      "Requirement already satisfied: debugpy>=1.6.5 in /home/satya/codecircle-org/data_science/.venv/lib/python3.11/site-packages (from ipykernel->ipynbname) (1.8.16)\n",
      "Requirement already satisfied: ipython>=7.23.1 in /home/satya/codecircle-org/data_science/.venv/lib/python3.11/site-packages (from ipykernel->ipynbname) (9.4.0)\n",
      "Requirement already satisfied: jupyter-client>=8.0.0 in /home/satya/codecircle-org/data_science/.venv/lib/python3.11/site-packages (from ipykernel->ipynbname) (8.6.3)\n",
      "Requirement already satisfied: jupyter-core!=5.0.*,>=4.12 in /home/satya/codecircle-org/data_science/.venv/lib/python3.11/site-packages (from ipykernel->ipynbname) (5.8.1)\n",
      "Requirement already satisfied: matplotlib-inline>=0.1 in /home/satya/codecircle-org/data_science/.venv/lib/python3.11/site-packages (from ipykernel->ipynbname) (0.1.7)\n",
      "Requirement already satisfied: nest-asyncio>=1.4 in /home/satya/codecircle-org/data_science/.venv/lib/python3.11/site-packages (from ipykernel->ipynbname) (1.6.0)\n",
      "Requirement already satisfied: packaging>=22 in /home/satya/codecircle-org/data_science/.venv/lib/python3.11/site-packages (from ipykernel->ipynbname) (25.0)\n",
      "Requirement already satisfied: psutil>=5.7 in /home/satya/codecircle-org/data_science/.venv/lib/python3.11/site-packages (from ipykernel->ipynbname) (7.0.0)\n",
      "Requirement already satisfied: pyzmq>=25 in /home/satya/codecircle-org/data_science/.venv/lib/python3.11/site-packages (from ipykernel->ipynbname) (27.0.1)\n",
      "Requirement already satisfied: tornado>=6.2 in /home/satya/codecircle-org/data_science/.venv/lib/python3.11/site-packages (from ipykernel->ipynbname) (6.5.2)\n",
      "Requirement already satisfied: traitlets>=5.4.0 in /home/satya/codecircle-org/data_science/.venv/lib/python3.11/site-packages (from ipykernel->ipynbname) (5.14.3)\n",
      "Requirement already satisfied: decorator in /home/satya/codecircle-org/data_science/.venv/lib/python3.11/site-packages (from ipython>=7.23.1->ipykernel->ipynbname) (5.2.1)\n",
      "Requirement already satisfied: ipython-pygments-lexers in /home/satya/codecircle-org/data_science/.venv/lib/python3.11/site-packages (from ipython>=7.23.1->ipykernel->ipynbname) (1.1.1)\n",
      "Requirement already satisfied: jedi>=0.16 in /home/satya/codecircle-org/data_science/.venv/lib/python3.11/site-packages (from ipython>=7.23.1->ipykernel->ipynbname) (0.19.2)\n",
      "Requirement already satisfied: pexpect>4.3 in /home/satya/codecircle-org/data_science/.venv/lib/python3.11/site-packages (from ipython>=7.23.1->ipykernel->ipynbname) (4.9.0)\n",
      "Requirement already satisfied: prompt_toolkit<3.1.0,>=3.0.41 in /home/satya/codecircle-org/data_science/.venv/lib/python3.11/site-packages (from ipython>=7.23.1->ipykernel->ipynbname) (3.0.51)\n",
      "Requirement already satisfied: pygments>=2.4.0 in /home/satya/codecircle-org/data_science/.venv/lib/python3.11/site-packages (from ipython>=7.23.1->ipykernel->ipynbname) (2.19.2)\n",
      "Requirement already satisfied: stack_data in /home/satya/codecircle-org/data_science/.venv/lib/python3.11/site-packages (from ipython>=7.23.1->ipykernel->ipynbname) (0.6.3)\n",
      "Requirement already satisfied: typing_extensions>=4.6 in /home/satya/codecircle-org/data_science/.venv/lib/python3.11/site-packages (from ipython>=7.23.1->ipykernel->ipynbname) (4.14.1)\n",
      "Requirement already satisfied: python-dateutil>=2.8.2 in /home/satya/codecircle-org/data_science/.venv/lib/python3.11/site-packages (from jupyter-client>=8.0.0->ipykernel->ipynbname) (2.9.0.post0)\n",
      "Requirement already satisfied: decorator in /home/satya/codecircle-org/data_science/.venv/lib/python3.11/site-packages (from ipython>=7.23.1->ipykernel->ipynbname) (5.2.1)\n",
      "Requirement already satisfied: ipython-pygments-lexers in /home/satya/codecircle-org/data_science/.venv/lib/python3.11/site-packages (from ipython>=7.23.1->ipykernel->ipynbname) (1.1.1)\n",
      "Requirement already satisfied: jedi>=0.16 in /home/satya/codecircle-org/data_science/.venv/lib/python3.11/site-packages (from ipython>=7.23.1->ipykernel->ipynbname) (0.19.2)\n",
      "Requirement already satisfied: pexpect>4.3 in /home/satya/codecircle-org/data_science/.venv/lib/python3.11/site-packages (from ipython>=7.23.1->ipykernel->ipynbname) (4.9.0)\n",
      "Requirement already satisfied: prompt_toolkit<3.1.0,>=3.0.41 in /home/satya/codecircle-org/data_science/.venv/lib/python3.11/site-packages (from ipython>=7.23.1->ipykernel->ipynbname) (3.0.51)\n",
      "Requirement already satisfied: pygments>=2.4.0 in /home/satya/codecircle-org/data_science/.venv/lib/python3.11/site-packages (from ipython>=7.23.1->ipykernel->ipynbname) (2.19.2)\n",
      "Requirement already satisfied: stack_data in /home/satya/codecircle-org/data_science/.venv/lib/python3.11/site-packages (from ipython>=7.23.1->ipykernel->ipynbname) (0.6.3)\n",
      "Requirement already satisfied: typing_extensions>=4.6 in /home/satya/codecircle-org/data_science/.venv/lib/python3.11/site-packages (from ipython>=7.23.1->ipykernel->ipynbname) (4.14.1)\n",
      "Requirement already satisfied: python-dateutil>=2.8.2 in /home/satya/codecircle-org/data_science/.venv/lib/python3.11/site-packages (from jupyter-client>=8.0.0->ipykernel->ipynbname) (2.9.0.post0)\n",
      "Requirement already satisfied: platformdirs>=2.5 in /home/satya/codecircle-org/data_science/.venv/lib/python3.11/site-packages (from jupyter-core!=5.0.*,>=4.12->ipykernel->ipynbname) (4.3.8)\n",
      "Requirement already satisfied: platformdirs>=2.5 in /home/satya/codecircle-org/data_science/.venv/lib/python3.11/site-packages (from jupyter-core!=5.0.*,>=4.12->ipykernel->ipynbname) (4.3.8)\n",
      "Requirement already satisfied: parso<0.9.0,>=0.8.4 in /home/satya/codecircle-org/data_science/.venv/lib/python3.11/site-packages (from jedi>=0.16->ipython>=7.23.1->ipykernel->ipynbname) (0.8.4)\n",
      "Requirement already satisfied: parso<0.9.0,>=0.8.4 in /home/satya/codecircle-org/data_science/.venv/lib/python3.11/site-packages (from jedi>=0.16->ipython>=7.23.1->ipykernel->ipynbname) (0.8.4)\n",
      "Requirement already satisfied: ptyprocess>=0.5 in /home/satya/codecircle-org/data_science/.venv/lib/python3.11/site-packages (from pexpect>4.3->ipython>=7.23.1->ipykernel->ipynbname) (0.7.0)\n",
      "Requirement already satisfied: wcwidth in /home/satya/codecircle-org/data_science/.venv/lib/python3.11/site-packages (from prompt_toolkit<3.1.0,>=3.0.41->ipython>=7.23.1->ipykernel->ipynbname) (0.2.13)\n",
      "Requirement already satisfied: ptyprocess>=0.5 in /home/satya/codecircle-org/data_science/.venv/lib/python3.11/site-packages (from pexpect>4.3->ipython>=7.23.1->ipykernel->ipynbname) (0.7.0)\n",
      "Requirement already satisfied: wcwidth in /home/satya/codecircle-org/data_science/.venv/lib/python3.11/site-packages (from prompt_toolkit<3.1.0,>=3.0.41->ipython>=7.23.1->ipykernel->ipynbname) (0.2.13)\n",
      "Requirement already satisfied: six>=1.5 in /home/satya/codecircle-org/data_science/.venv/lib/python3.11/site-packages (from python-dateutil>=2.8.2->jupyter-client>=8.0.0->ipykernel->ipynbname) (1.17.0)\n",
      "Requirement already satisfied: executing>=1.2.0 in /home/satya/codecircle-org/data_science/.venv/lib/python3.11/site-packages (from stack_data->ipython>=7.23.1->ipykernel->ipynbname) (2.2.0)\n",
      "Requirement already satisfied: six>=1.5 in /home/satya/codecircle-org/data_science/.venv/lib/python3.11/site-packages (from python-dateutil>=2.8.2->jupyter-client>=8.0.0->ipykernel->ipynbname) (1.17.0)\n",
      "Requirement already satisfied: executing>=1.2.0 in /home/satya/codecircle-org/data_science/.venv/lib/python3.11/site-packages (from stack_data->ipython>=7.23.1->ipykernel->ipynbname) (2.2.0)\n",
      "Requirement already satisfied: asttokens>=2.1.0 in /home/satya/codecircle-org/data_science/.venv/lib/python3.11/site-packages (from stack_data->ipython>=7.23.1->ipykernel->ipynbname) (3.0.0)\n",
      "Requirement already satisfied: pure-eval in /home/satya/codecircle-org/data_science/.venv/lib/python3.11/site-packages (from stack_data->ipython>=7.23.1->ipykernel->ipynbname) (0.2.3)\n",
      "Requirement already satisfied: asttokens>=2.1.0 in /home/satya/codecircle-org/data_science/.venv/lib/python3.11/site-packages (from stack_data->ipython>=7.23.1->ipykernel->ipynbname) (3.0.0)\n",
      "Requirement already satisfied: pure-eval in /home/satya/codecircle-org/data_science/.venv/lib/python3.11/site-packages (from stack_data->ipython>=7.23.1->ipykernel->ipynbname) (0.2.3)\n"
     ]
    }
   ],
   "source": [
    "!pip install ipynbname"
   ]
  },
  {
   "cell_type": "code",
   "execution_count": 18,
   "id": "117e7ecf",
   "metadata": {},
   "outputs": [
    {
     "name": "stdout",
     "output_type": "stream",
     "text": [
      "/home/satya/codecircle-org/data_science/.venv/lib/python3.11/site-packages/ipynbname\n"
     ]
    }
   ],
   "source": [
    "import ipynbname\n",
    "import os\n",
    "\n",
    "# In Jupyter Notebook, \"!\" is used to run shell commands directly from a cell.\n",
    "# For example, \"!pip install ipynbname\" runs the pip install command in the system shell.\n",
    "\n",
    "# The package is installed in the Python environment that the Jupyter kernel is using.\n",
    "# To find the installation path of the 'ipynbname' package, you can run:\n",
    "\n",
    "\n",
    "print(os.path.dirname(ipynbname.__file__))"
   ]
  },
  {
   "cell_type": "markdown",
   "id": "9f0b92c0",
   "metadata": {},
   "source": []
  },
  {
   "cell_type": "code",
   "execution_count": 19,
   "id": "a1a88be8",
   "metadata": {},
   "outputs": [],
   "source": [
    "import ipynbname\n"
   ]
  },
  {
   "cell_type": "code",
   "execution_count": 24,
   "id": "032af453",
   "metadata": {},
   "outputs": [
    {
     "ename": "FileNotFoundError",
     "evalue": "Can't identify the notebook path.",
     "output_type": "error",
     "traceback": [
      "\u001b[31m---------------------------------------------------------------------------\u001b[39m",
      "\u001b[31mFileNotFoundError\u001b[39m                         Traceback (most recent call last)",
      "\u001b[36mCell\u001b[39m\u001b[36m \u001b[39m\u001b[32mIn[24]\u001b[39m\u001b[32m, line 1\u001b[39m\n\u001b[32m----> \u001b[39m\u001b[32m1\u001b[39m \u001b[38;5;28mprint\u001b[39m(\u001b[43mipynbname\u001b[49m\u001b[43m.\u001b[49m\u001b[43mpath\u001b[49m\u001b[43m(\u001b[49m\u001b[43m)\u001b[49m)\n",
      "\u001b[36mFile \u001b[39m\u001b[32m~/codecircle-org/data_science/.venv/lib/python3.11/site-packages/ipynbname/__init__.py:107\u001b[39m, in \u001b[36mpath\u001b[39m\u001b[34m()\u001b[39m\n\u001b[32m    105\u001b[39m     root_dir = Path(srv.get(\u001b[33m'\u001b[39m\u001b[33mroot_dir\u001b[39m\u001b[33m'\u001b[39m) \u001b[38;5;129;01mor\u001b[39;00m srv[\u001b[33m'\u001b[39m\u001b[33mnotebook_dir\u001b[39m\u001b[33m'\u001b[39m])\n\u001b[32m    106\u001b[39m     \u001b[38;5;28;01mreturn\u001b[39;00m root_dir / path\n\u001b[32m--> \u001b[39m\u001b[32m107\u001b[39m \u001b[38;5;28;01mraise\u001b[39;00m \u001b[38;5;167;01mFileNotFoundError\u001b[39;00m(FILE_ERROR.format(\u001b[33m'\u001b[39m\u001b[33mpath\u001b[39m\u001b[33m'\u001b[39m))\n",
      "\u001b[31mFileNotFoundError\u001b[39m: Can't identify the notebook path."
     ]
    }
   ],
   "source": [
    "print(ipynbname.path())"
   ]
  },
  {
   "cell_type": "code",
   "execution_count": null,
   "id": "40db5efa",
   "metadata": {},
   "outputs": [],
   "source": []
  }
 ],
 "metadata": {
  "kernelspec": {
   "display_name": ".venv (3.11.2)",
   "language": "python",
   "name": "python3"
  },
  "language_info": {
   "codemirror_mode": {
    "name": "ipython",
    "version": 3
   },
   "file_extension": ".py",
   "mimetype": "text/x-python",
   "name": "python",
   "nbconvert_exporter": "python",
   "pygments_lexer": "ipython3",
   "version": "3.11.2"
  }
 },
 "nbformat": 4,
 "nbformat_minor": 5
}
